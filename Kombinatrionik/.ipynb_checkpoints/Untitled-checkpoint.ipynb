{
 "cells": [
  {
   "cell_type": "markdown",
   "metadata": {},
   "source": [
    "## IEEE 754 \n",
    "1bit für vorzeichen\n",
    "52bit  matisse with hidden bit \n",
    "11bit exponent\n",
    "bei runden ist der ziffer von letzten die gescheichert ist angeschen (=mathematisches runden ist abhäning)\n",
    "\n",
    "\n"
   ]
  },
  {
   "cell_type": "markdown",
   "metadata": {},
   "source": [
    "## Irrational\n",
    "quadrat einer ungeraden zahl ist auch eine ungrade Zahl (vice versa)\n",
    "um grenz wert zu bilden um am nähsten an irrationalen Zahlen mit Rationele Zahlen (begründen) nicht PC darstellbar <font color=\"green\"></font>"
   ]
  },
  {
   "cell_type": "markdown",
   "metadata": {},
   "source": []
  }
 ],
 "metadata": {
  "kernelspec": {
   "display_name": "Python 3",
   "language": "python",
   "name": "python3"
  },
  "language_info": {
   "codemirror_mode": {
    "name": "ipython",
    "version": 3
   },
   "file_extension": ".py",
   "mimetype": "text/x-python",
   "name": "python",
   "nbconvert_exporter": "python",
   "pygments_lexer": "ipython3",
   "version": "3.8.2"
  }
 },
 "nbformat": 4,
 "nbformat_minor": 4
}
